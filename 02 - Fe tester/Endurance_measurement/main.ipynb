{
 "cells": [
  {
   "cell_type": "code",
   "execution_count": null,
   "id": "ceaf99ec",
   "metadata": {},
   "outputs": [],
   "source": [
    "import sys\n",
    "from pathlib import Path\n",
    "import numpy as np\n",
    "import pandas as pd\n",
    "import matplotlib.pyplot as plt\n",
    "import matplotlib.cm as cm\n",
    "import os\n",
    "import json\n",
    "# from matplotlib import colormaps\n",
    "import re\n",
    "import io\n",
    "from datetime import datetime\n",
    "\n",
    "from src.metadata_utils import extract_metadata\n",
    "from src.metadata_utils import DHM_data_extraction\n",
    "from src.metadata_utils import fatigue_data_extraction\n",
    "from src.metadata_utils import fatigue_dataframe_extraction\n",
    "from src.Plot import main_plot\n",
    "from src.Plot import Plot_single_DHM\n",
    "from src.Plot import Plot_multi_DHM\n",
    "\n",
    "#-----------------------------------------------------------------------------------------------------------------------------------------------------------------------------------------------------------------------------------------------------------------\n",
    "# This code is used to plot the data from the FE tester for the CV\n",
    "#------------------------------------------------------------------------------------------------------------------------------------------------------------------------------------------------------------------------------------------------------------------\n",
    "\n",
    "%config InlineBackend.figure_format = 'retina' # For high resolution figures in Jupyter Notebook\n",
    "#%matplotlib widget"
   ]
  },
  {
   "cell_type": "markdown",
   "id": "aa9df1ff",
   "metadata": {},
   "source": [
    "---"
   ]
  },
  {
   "cell_type": "markdown",
   "id": "6a139d4e",
   "metadata": {},
   "source": [
    "## Operator window"
   ]
  },
  {
   "cell_type": "markdown",
   "id": "91832b25",
   "metadata": {},
   "source": [
    "#### Parameters to Specify\n",
    "\n",
    "- **Input file path**  \n",
    "- **Output file path**  \n",
    "- **File name**  \n",
    "- **Number of points to remove** (in case of breakdown)\n",
    "\n",
    "⚠️ **Important:** Pay attention to the **output path**. The program will automatically create **4 subfolders** in the output path to store the plots and the CSV file."
   ]
  },
  {
   "cell_type": "code",
   "execution_count": null,
   "id": "28db668d",
   "metadata": {},
   "outputs": [],
   "source": [
    "# Set the path to the data file\n",
    "# ---------------------------------------------------------------------------------------------------------------------------------------------------------------------------------------------------------------------------------------------------------------------\n",
    "\n",
    "file_path = r'C:\\Users\\melan\\OneDrive\\Documents\\Dossier_Nathan\\PhD\\download\\06 - FeCAP-FTJ\\02 - Data\\02 - FE tester\\NASA_FeCAP_07\\Endurance measurement - DHM'\n",
    "output_path = r'C:\\Users\\melan\\OneDrive\\Documents\\Dossier_Nathan\\PhD\\download\\06 - FeCAP-FTJ\\02 - Data\\02 - FE tester\\NASA_FeCAP_07\\Endurance measurement - DHM'\n",
    "file_name = 'NASA_FeCAP_07_ID_19-09_FM_05.dat'\n",
    "full_path = os.path.join(file_path, file_name)\n",
    "\n",
    "# If we have a breakdown during the measurement, we can remove the last n points\n",
    "point_removal = 0\n",
    "\n",
    "# Extract the last folder name from the file path\n",
    "last_folder = os.path.basename(os.path.dirname(file_path))\n",
    "print(last_folder)\n",
    "\n",
    "# Séparer nom et extension\n",
    "base_name = os.path.splitext(file_name)[0]\n",
    "print(base_name)  # ➜ NASA_SL_ALE_10_ID_095"
   ]
  },
  {
   "cell_type": "markdown",
   "id": "8c51a6c8",
   "metadata": {},
   "source": [
    "---"
   ]
  },
  {
   "cell_type": "markdown",
   "id": "54efcb4b",
   "metadata": {},
   "source": [
    "## Complete fatigue analysis"
   ]
  },
  {
   "cell_type": "markdown",
   "id": "7af4787a",
   "metadata": {},
   "source": [
    "File extraction"
   ]
  },
  {
   "cell_type": "code",
   "execution_count": null,
   "id": "1f178254",
   "metadata": {},
   "outputs": [],
   "source": [
    "# --- Get the lines where the information of the fatigue measurement are stored ---\n",
    "\n",
    "data_lines_complete_fatigue = fatigue_data_extraction(full_path)\n",
    "\n",
    "# --- Initialize metadata placeholders ---\n",
    "\n",
    "metadata_dict, metadata_str = extract_metadata(data_lines_complete_fatigue, point_removal, keyword=\"Hysteresis\")\n",
    "\n",
    "# --- Extract the dataframe of the fatigue measurement into a pandas series to plot the curves ---\n",
    "\n",
    "df_fatigue = fatigue_dataframe_extraction(data_lines_complete_fatigue, point_removal)\n"
   ]
  },
  {
   "cell_type": "markdown",
   "id": "a0845cc7",
   "metadata": {},
   "source": [
    "Plot Endurance measurement Pr"
   ]
  },
  {
   "cell_type": "code",
   "execution_count": null,
   "id": "d023667a",
   "metadata": {},
   "outputs": [],
   "source": [
    "# --- Plot the fatigue data ---\n",
    "\n",
    "label_size = 13\n",
    "Save_main_plot = True\n",
    "\n",
    "main_plot(df_fatigue, metadata_dict, metadata_str, output_path, base_name, label_size)\n",
    "\n",
    "output_path_02 = os.path.join(output_path, base_name)\n",
    "os.makedirs(output_path_02, exist_ok=True)  # Ensure output directory exists\n",
    "output_main_plot = os.path.join(output_path_02, \"Main plot\")\n",
    "os.makedirs(output_main_plot, exist_ok=True)  # Ensure output directory exists\n"
   ]
  },
  {
   "cell_type": "markdown",
   "id": "77599e15",
   "metadata": {},
   "source": [
    "---"
   ]
  },
  {
   "cell_type": "markdown",
   "id": "8554fd65",
   "metadata": {},
   "source": [
    "## DHM analysis"
   ]
  },
  {
   "cell_type": "markdown",
   "id": "c3e960b7",
   "metadata": {},
   "source": [
    "Data analysis"
   ]
  },
  {
   "cell_type": "code",
   "execution_count": null,
   "id": "7aa38241",
   "metadata": {},
   "outputs": [],
   "source": [
    "\n",
    "DHM_dataframe = DHM_data_extraction(full_path, Cycles_total, point_removal, df_fatigue)\n",
    "\n",
    "#Concatenate all DataFrames into a single DataFrame and save to CSV\n",
    "DHM_dataframe_csv = pd.concat(DHM_dataframe, axis=1)\n",
    "output_csv_data_path = os.path.join(output_path_02, \"CSV data\")\n",
    "os.makedirs(output_csv_data_path, exist_ok=True)  # Ensure output directory exists\n",
    "\n",
    "DHM_dataframe_csv.to_csv(os.path.join(output_csv_data_path, f\"{metadata_dict[\"Measurement_date_iso\"]}_{base_name}_FatigueDHM.csv\"), index=False)\n"
   ]
  },
  {
   "cell_type": "markdown",
   "id": "a16cfafa",
   "metadata": {},
   "source": [
    "Single plot"
   ]
  },
  {
   "cell_type": "code",
   "execution_count": null,
   "id": "521ddb7d",
   "metadata": {},
   "outputs": [],
   "source": [
    "# Ploting of every DHM curve into a single plot.\n",
    "\n",
    "label_size = 13\n",
    "Plot_single_DHM(DHM_dataframe, Cycles_total, label_size, output_main_plot, base_name, metadata_dict)\n"
   ]
  },
  {
   "cell_type": "markdown",
   "id": "feb4f715",
   "metadata": {},
   "source": [
    "Multi-plot"
   ]
  },
  {
   "cell_type": "code",
   "execution_count": null,
   "id": "2b528a3c",
   "metadata": {},
   "outputs": [],
   "source": [
    "# Plot of every DHM curve.\n",
    "\n",
    "label_size = 13\n",
    "Plot_multi_DHM(DHM_dataframe,output_path_02, Cycles_total, label_size, base_name)\n"
   ]
  }
 ],
 "metadata": {
  "kernelspec": {
   "display_name": "Python 3",
   "language": "python",
   "name": "python3"
  },
  "language_info": {
   "codemirror_mode": {
    "name": "ipython",
    "version": 3
   },
   "file_extension": ".py",
   "mimetype": "text/x-python",
   "name": "python",
   "nbconvert_exporter": "python",
   "pygments_lexer": "ipython3",
   "version": "3.13.7"
  }
 },
 "nbformat": 4,
 "nbformat_minor": 5
}
